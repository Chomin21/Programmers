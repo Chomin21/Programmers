{
 "cells": [
  {
   "cell_type": "code",
   "execution_count": 12,
   "id": "complete-rates",
   "metadata": {},
   "outputs": [
    {
     "name": "stdout",
     "output_type": "stream",
     "text": [
      "[1]\n",
      "[1, 2, 3]\n",
      "[3]\n"
     ]
    }
   ],
   "source": [
    "#모의고사\n",
    "#합계 100, 1030점\n",
    "\n",
    "def solution(answers):\n",
    "    answer = []\n",
    "    \n",
    "    user_1 = [1,2,3,4,5]\n",
    "    user_2 = [2,1,2,3,2,4,2,5]\n",
    "    user_3 = [3,3,1,1,2,2,4,4,5,5]\n",
    "    \n",
    "    dict_score = {1 : 0, 2 : 0, 3 : 0}\n",
    "    \n",
    "    i = 0\n",
    "    a1 = 0\n",
    "    a2 = 0\n",
    "    a3 = 0\n",
    "    while i < len(answers):\n",
    "        if answers[i] == user_1[a1]:\n",
    "            dict_score[1] += 1\n",
    "        if answers[i] == user_2[a2]:\n",
    "            dict_score[2] += 1\n",
    "        if answers[i] == user_3[a3]:\n",
    "            dict_score[3] += 1\n",
    "        i += 1\n",
    "        a1 += 1\n",
    "        a2 += 1\n",
    "        a3 += 1\n",
    "        \n",
    "        if a1 == len(user_1):\n",
    "            a1 = 0\n",
    "        if a2 == len(user_2):\n",
    "            a2 = 0\n",
    "        if a3 == len(user_3):\n",
    "            a3 = 0\n",
    "            \n",
    "    dict_score = sorted(dict_score.items(), reverse=True, key=lambda item: item[1])\n",
    "    max_score = dict_score[0][1]\n",
    "    \n",
    "    for k in dict_score:\n",
    "        if max_score == k[1]:\n",
    "            answer.append(k[0])\n",
    "    answer.sort()\n",
    "\n",
    "    return answer\n",
    "\n",
    "print(solution([1,2,3,4,5]))\n",
    "print(solution([1,3,2,4,2]))\n",
    "print(solution([3,3,1,5,4,4,3,2,5,3]))"
   ]
  },
  {
   "cell_type": "code",
   "execution_count": null,
   "id": "growing-niger",
   "metadata": {},
   "outputs": [],
   "source": [
    "#다른 사람 풀이1\n",
    "\n",
    "def solution(answers):\n",
    "    pattern1 = [1,2,3,4,5]\n",
    "    pattern2 = [2,1,2,3,2,4,2,5]\n",
    "    pattern3 = [3,3,1,1,2,2,4,4,5,5]\n",
    "    score = [0, 0, 0]\n",
    "    result = []\n",
    "\n",
    "    #enumerate : 위치인덱스, 값 반환하는 함수. 위치:값\n",
    "    for idx, answer in enumerate(answers):\n",
    "        if answer == pattern1[idx%len(pattern1)]:\n",
    "            score[0] += 1\n",
    "        if answer == pattern2[idx%len(pattern2)]:\n",
    "            score[1] += 1\n",
    "        if answer == pattern3[idx%len(pattern3)]:\n",
    "            score[2] += 1\n",
    "\n",
    "    for idx, s in enumerate(score):\n",
    "        if s == max(score):\n",
    "            result.append(idx+1)\n",
    "\n",
    "    return result\n"
   ]
  },
  {
   "cell_type": "code",
   "execution_count": null,
   "id": "allied-entertainment",
   "metadata": {},
   "outputs": [],
   "source": [
    "#다른 사람 풀이2\n",
    "\n",
    "from itertools import cycle\n",
    "\n",
    "def solution(answers):\n",
    "    giveups = [\n",
    "        cycle([1,2,3,4,5]),\n",
    "        cycle([2,1,2,3,2,4,2,5]),\n",
    "        cycle([3,3,1,1,2,2,4,4,5,5]),\n",
    "    ]\n",
    "    scores = [0, 0, 0]\n",
    "    for num in answers:\n",
    "        for i in range(3):\n",
    "            if next(giveups[i]) == num:\n",
    "                scores[i] += 1\n",
    "    highest = max(scores)\n",
    "\n",
    "    return [i + 1 for i, v in enumerate(scores) if v == highest]"
   ]
  }
 ],
 "metadata": {
  "kernelspec": {
   "display_name": "Python 3",
   "language": "python",
   "name": "python3"
  },
  "language_info": {
   "codemirror_mode": {
    "name": "ipython",
    "version": 3
   },
   "file_extension": ".py",
   "mimetype": "text/x-python",
   "name": "python",
   "nbconvert_exporter": "python",
   "pygments_lexer": "ipython3",
   "version": "3.9.1"
  }
 },
 "nbformat": 4,
 "nbformat_minor": 5
}
