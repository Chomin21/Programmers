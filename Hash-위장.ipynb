{
 "cells": [
  {
   "cell_type": "code",
   "execution_count": 18,
   "metadata": {},
   "outputs": [
    {
     "name": "stdout",
     "output_type": "stream",
     "text": [
      "5\n",
      "3\n"
     ]
    }
   ],
   "source": [
    "#위장\n",
    "#내 코드\n",
    "#96.4점\n",
    "\n",
    "from itertools import combinations\n",
    "\n",
    "def solution(clothes):\n",
    "    answer = 0\n",
    "    cloth_kind = {}\n",
    "    \n",
    "    for i in range(len(clothes)):\n",
    "        if clothes[i][1] not in cloth_kind.keys():\n",
    "            cloth_kind[clothes[i][1]] = 1\n",
    "        else:\n",
    "            cloth_kind[clothes[i][1]] += 1\n",
    "    \n",
    "    cloth_values = list(cloth_kind.values())\n",
    "    cloth_com = list()\n",
    "    \n",
    "    for i in range(1, len(cloth_kind) + 1):\n",
    "        cloth_com += list(combinations(cloth_values,i))\n",
    "    \n",
    "    for com in cloth_com:\n",
    "        temp = 1\n",
    "        for m in range(len(com)):\n",
    "            if len(com) == 1:\n",
    "                temp = com[0]\n",
    "                break;\n",
    "            temp *= com[m]\n",
    "        answer += temp\n",
    "        \n",
    "    return answer\n",
    "\n",
    "\n",
    "print(solution([[\"yellowhat\", \"headgear\"], [\"bluesunglasses\", \"eyewear\"], [\"green_turban\", \"headgear\"]]))\n",
    "print(solution([[\"crowmask\", \"face\"], [\"bluesunglasses\", \"face\"], [\"smoky_makeup\", \"face\"]]))"
   ]
  },
  {
   "cell_type": "code",
   "execution_count": null,
   "metadata": {},
   "outputs": [],
   "source": [
    "#윤서안 코드\n",
    "#100점.\n",
    "\n",
    "def solution(clothes):\n",
    "    answer = 0\n",
    "    dic = {}\n",
    "    sum = 1\n",
    "    \n",
    "    for i,j in clothes:\n",
    "        if j in dic:\n",
    "            dic[j] += 1\n",
    "        else:\n",
    "            dic[j] = 1\n",
    "    \n",
    "    for i in dic.values():\n",
    "        sum = sum * (i + 1)\n",
    "            \n",
    "    answer = sum - 1\n",
    "    return answer"
   ]
  },
  {
   "cell_type": "code",
   "execution_count": 17,
   "metadata": {},
   "outputs": [
    {
     "name": "stdout",
     "output_type": "stream",
     "text": [
      "[2, 1]\n",
      "5\n",
      "[3]\n",
      "3\n"
     ]
    }
   ],
   "source": [
    "from itertools import combinations\n",
    "\n",
    "def solution(clothes):\n",
    "    answer = 0\n",
    "    cloth_kind = {}\n",
    "    \n",
    "    for i in range(len(clothes)):\n",
    "        if clothes[i][1] not in cloth_kind.keys():\n",
    "            cloth_kind[clothes[i][1]] = 1\n",
    "        else:\n",
    "            cloth_kind[clothes[i][1]] += 1\n",
    "    \n",
    "    cloth_values = list(cloth_kind.values())\n",
    "    print(cloth_values)\n",
    "    \n",
    "    for k in range(len(cloth_values)):\n",
    "        cloth_values[k]\n",
    "        \n",
    "        \n",
    "    return answer\n",
    "\n",
    "\n",
    "print(solution([[\"yellowhat\", \"headgear\"], [\"bluesunglasses\", \"eyewear\"], [\"green_turban\", \"headgear\"]]))\n",
    "print(solution([[\"crowmask\", \"face\"], [\"bluesunglasses\", \"face\"], [\"smoky_makeup\", \"face\"]]))"
   ]
  },
  {
   "cell_type": "code",
   "execution_count": null,
   "metadata": {},
   "outputs": [],
   "source": []
  }
 ],
 "metadata": {
  "kernelspec": {
   "display_name": "Python 3",
   "language": "python",
   "name": "python3"
  },
  "language_info": {
   "codemirror_mode": {
    "name": "ipython",
    "version": 3
   },
   "file_extension": ".py",
   "mimetype": "text/x-python",
   "name": "python",
   "nbconvert_exporter": "python",
   "pygments_lexer": "ipython3",
   "version": "3.8.2"
  }
 },
 "nbformat": 4,
 "nbformat_minor": 5
}
