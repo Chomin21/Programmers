{
 "cells": [
  {
   "cell_type": "code",
   "execution_count": 15,
   "metadata": {},
   "outputs": [
    {
     "name": "stdout",
     "output_type": "stream",
     "text": [
      "5\n",
      "4\n",
      "3\n",
      "8\n"
     ]
    }
   ],
   "source": [
    "#틀린 내 코드\n",
    "\n",
    "def solution(n, lost, reserve):\n",
    "    answer = n - len(lost) #체육복을 원래 가지고 있는 사람들\n",
    "    \n",
    "    #잃어버린 사람 = 여분 옷이 있는 사람인 경우 제외하기\n",
    "    for i in lost:\n",
    "        if i in reserve:\n",
    "            answer += 1\n",
    "            reserve.remove(i)\n",
    "            lost.remove(i)\n",
    "    \n",
    "    #위의 경우를 제외하고 여분옷을 받을 수 있는 사람들 찾기\n",
    "    for k in lost:\n",
    "        if k-1 in reserve:\n",
    "            answer += 1\n",
    "            reserve.remove(k-1)\n",
    "        elif k+1 in reserve:\n",
    "            answer += 1\n",
    "            reserve.remove(k+1)\n",
    "\n",
    "    return answer\n",
    "\n",
    "print(solution(5, [2,4], [1,3,5])) #5\n",
    "print(solution(5, [2,4], [3])) #4\n",
    "print(solution(3, [3], [3])) #3\n",
    "print(solution(10, [2,3,4,5], [2,3,4])) #9"
   ]
  },
  {
   "cell_type": "code",
   "execution_count": 11,
   "metadata": {},
   "outputs": [
    {
     "name": "stdout",
     "output_type": "stream",
     "text": [
      "9\n",
      "5\n",
      "4\n",
      "3\n"
     ]
    }
   ],
   "source": [
    "#전체 인원들을 모두 탐색하면서 찾는 방법\n",
    "#정수 코드\n",
    "\n",
    "def solution(n, lost, reserve):\n",
    "    answer = n - len(lost) #체육복을 원래 가지고 있는 사람들\n",
    "    \n",
    "    length = len(lost)\n",
    "    #잃어버린 사람 = 여분 옷이 있는 사람인 경우 제외하기\n",
    "    for i in range(1,n+1):\n",
    "        if i in lost and i in reserve:\n",
    "            answer += 1\n",
    "            reserve.remove(i)\n",
    "            lost.remove(i)\n",
    "            \n",
    "    #위의 경우를 제외하고 여분옷을 받을 수 있는 사람들 찾기\n",
    "    for k in range(1,n+1):\n",
    "        if k in lost and k-1 in reserve:\n",
    "            answer += 1\n",
    "            reserve.remove(k-1)\n",
    "            lost.remove(k)\n",
    "        elif k in lost and k+1 in reserve:\n",
    "            answer += 1\n",
    "            reserve.remove(k+1)\n",
    "            lost.remove(k)\n",
    "    return answer\n",
    "\n",
    "print(solution(10, [2,3,4,5], [2,3,4])) #9\n",
    "print(solution(5, [2,4], [1,3,5])) #5\n",
    "print(solution(5, [2,4], [3])) #4\n",
    "print(solution(3, [3], [3])) #3\n"
   ]
  },
  {
   "cell_type": "code",
   "execution_count": 14,
   "metadata": {},
   "outputs": [
    {
     "name": "stdout",
     "output_type": "stream",
     "text": [
      "5\n",
      "4\n",
      "3\n",
      "9\n"
     ]
    }
   ],
   "source": [
    "#정수거랑 내거 짬뽕\n",
    "\n",
    "def solution(n, lost, reserve):\n",
    "    answer = n - len(lost) #체육복을 원래 가지고 있는 사람들\n",
    "    \n",
    "    length = len(lost)\n",
    "    #잃어버린 사람 = 여분 옷이 있는 사람인 경우 제외하기\n",
    "    \n",
    "    for i in range(1,n+1):\n",
    "        if i in lost and i in reserve:\n",
    "            answer += 1\n",
    "            reserve.remove(i)\n",
    "            lost.remove(i)\n",
    "    \n",
    "    for k in lost:\n",
    "        if k-1 in reserve:\n",
    "            answer += 1\n",
    "            reserve.remove(k-1)\n",
    "        elif k+1 in reserve:\n",
    "            answer += 1\n",
    "            reserve.remove(k+1)\n",
    "\n",
    "    return answer\n",
    "\n",
    "print(solution(5, [2,4], [1,3,5])) #5\n",
    "print(solution(5, [2,4], [3])) #4\n",
    "print(solution(3, [3], [3])) #3\n",
    "print(solution(10, [2,3,4,5], [2,3,4])) #9"
   ]
  },
  {
   "cell_type": "code",
   "execution_count": 13,
   "metadata": {},
   "outputs": [
    {
     "name": "stdout",
     "output_type": "stream",
     "text": [
      "5\n",
      "4\n",
      "3\n",
      "9\n"
     ]
    }
   ],
   "source": [
    "#lost에서 요소를 없애지 않고 0으로 대체. 인덱스 값 방지를 위해.\n",
    "\n",
    "def solution(n, lost, reserve):\n",
    "    answer = n - len(lost)\n",
    "    \n",
    "    for i in range(0, len(lost)):\n",
    "        if lost[i] in reserve:\n",
    "            reserve.remove(lost[i])\n",
    "            lost[i] = 0\n",
    "            answer = answer+1\n",
    "    \n",
    "    for k in lost:\n",
    "        if k-1 in reserve:\n",
    "            answer += 1\n",
    "            reserve.remove(k-1)\n",
    "        elif k+1 in reserve:\n",
    "            answer += 1\n",
    "            reserve.remove(k+1)\n",
    "\n",
    "    return answer\n",
    "\n",
    "print(solution(5, [2,4], [1,3,5])) #5\n",
    "print(solution(5, [2,4], [3])) #4\n",
    "print(solution(3, [3], [3])) #3\n",
    "print(solution(10, [2,3,4,5], [2,3,4])) #9"
   ]
  },
  {
   "cell_type": "code",
   "execution_count": null,
   "metadata": {},
   "outputs": [],
   "source": []
  }
 ],
 "metadata": {
  "kernelspec": {
   "display_name": "Python 3",
   "language": "python",
   "name": "python3"
  },
  "language_info": {
   "codemirror_mode": {
    "name": "ipython",
    "version": 3
   },
   "file_extension": ".py",
   "mimetype": "text/x-python",
   "name": "python",
   "nbconvert_exporter": "python",
   "pygments_lexer": "ipython3",
   "version": "3.8.2"
  }
 },
 "nbformat": 4,
 "nbformat_minor": 4
}
