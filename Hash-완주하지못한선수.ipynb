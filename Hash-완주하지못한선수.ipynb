{
 "cells": [
  {
   "cell_type": "code",
   "execution_count": 3,
   "metadata": {},
   "outputs": [
    {
     "name": "stdout",
     "output_type": "stream",
     "text": [
      "mislav\n",
      "vinko\n",
      "stanko\n"
     ]
    }
   ],
   "source": [
    "#합계 100\n",
    "#딕셔너리로만 푼 답. 리스트의 remove()함수가 효율성을 떨어뜨림.\n",
    "\n",
    "def solution(participant, completion):\n",
    "    answer = ''\n",
    "    \n",
    "    #빈 딕셔너리 생성\n",
    "    part_player = {}\n",
    "    comp_player = {}\n",
    "    \n",
    "    #참가자 중 동명이인인 사람 찾기\n",
    "    for k in participant:\n",
    "        if k not in part_player:\n",
    "            part_player[k] = 1\n",
    "        else:\n",
    "            part_player[k] += 1\n",
    "    \n",
    "    for k in completion:\n",
    "        if k not in comp_player:\n",
    "            comp_player[k] = 1\n",
    "        else:\n",
    "            comp_player[k] += 1\n",
    "    \n",
    "    for key, value in comp_player.items():\n",
    "        if key in part_player.keys():\n",
    "            part_player[key] -= comp_player[key]\n",
    "    \n",
    "    #완주 못한 사람 찾기\n",
    "    for key, value in part_player.items():\n",
    "        if value != 0:\n",
    "            answer = key        \n",
    "                \n",
    "    return answer\n",
    "\n",
    "print(solution(['mislav', 'stanko', 'mislav', 'ana'], ['stanko', 'ana', 'mislav']))\n",
    "print(solution(['marina', 'josipa', 'nikola', 'vinko', 'filipa'], ['josipa', 'filipa', 'marina', 'nikola']))\n",
    "print(solution(['mislav', 'stanko', 'mislav', 'ana'], ['mislav', 'ana', 'mislav']))"
   ]
  },
  {
   "cell_type": "code",
   "execution_count": 7,
   "metadata": {},
   "outputs": [
    {
     "name": "stdout",
     "output_type": "stream",
     "text": [
      "{'mislav': 2, 'stanko': 1, 'ana': 1}\n",
      "{'stanko': 1, 'ana': 1, 'mislav': 1}\n",
      "{'mislav': 1, 'stanko': 0, 'ana': 0}\n",
      "mislav\n",
      "{'marina': 1, 'josipa': 1, 'nikola': 1, 'vinko': 1, 'filipa': 1}\n",
      "{'josipa': 1, 'filipa': 1, 'marina': 1, 'nikola': 1}\n",
      "{'marina': 0, 'josipa': 0, 'nikola': 0, 'vinko': 1, 'filipa': 0}\n",
      "vinko\n",
      "{'mislav': 2, 'stanko': 1, 'ana': 1}\n",
      "{'mislav': 2, 'ana': 1}\n",
      "{'mislav': 1, 'stanko': 1, 'ana': 0}\n",
      "stanko\n"
     ]
    }
   ],
   "source": [
    "#정확성 100, 효율성 0(시간초과)\n",
    "#이 코드를 고친게 위의 코드.\n",
    "\n",
    "def solution(participant, completion):\n",
    "    answer = ''\n",
    "    \n",
    "    #빈 딕셔너리 생성\n",
    "    part_player = {}\n",
    "    \n",
    "    #참가자 중 동명이인인 사람 찾기\n",
    "    for k in participant:\n",
    "        if k not in part_player:\n",
    "            part_player[k] = 1\n",
    "        else:\n",
    "            part_player[k] += 1\n",
    "    print(part_player)\n",
    "\n",
    "    #참가자 중 완주한 사람들의 값을 0으로 만들기\n",
    "    for m in participant:\n",
    "        if m in completion:\n",
    "            part_player[m] -= 1\n",
    "            completion.remove(m)\n",
    "    print(part_player)\n",
    "    \n",
    "    #완주 못한 사람 찾기\n",
    "    for key, value in part_player.items():\n",
    "        if value != 0:\n",
    "            answer = key        \n",
    "                \n",
    "    return answer\n",
    "\n",
    "print(solution(['mislav', 'stanko', 'mislav', 'ana'], ['stanko', 'ana', 'mislav']))\n",
    "print(solution(['marina', 'josipa', 'nikola', 'vinko', 'filipa'], ['josipa', 'filipa', 'marina', 'nikola']))\n",
    "print(solution(['mislav', 'stanko', 'mislav', 'ana'], ['mislav', 'ana', 'mislav']))"
   ]
  },
  {
   "cell_type": "code",
   "execution_count": 17,
   "metadata": {},
   "outputs": [
    {
     "name": "stdout",
     "output_type": "stream",
     "text": [
      "[]\n",
      "['mislav']\n",
      "mislav\n",
      "[]\n",
      "['vinko']\n",
      "vinko\n",
      "[]\n",
      "['stanko']\n",
      "stanko\n"
     ]
    }
   ],
   "source": [
    "#정확성 100, 효율성 0(시간초과)\n",
    "\n",
    "def solution(participant, completion):\n",
    "    answer = ''\n",
    "    \n",
    "    #빈 딕셔너리 생성\n",
    "    part_player = {}\n",
    "    \n",
    "    #참가자 중 동명이인인 사람 찾기\n",
    "    for k in participant:\n",
    "        if k not in part_player:\n",
    "            part_player[k] = 1\n",
    "        else:\n",
    "            part_player[k] += 1\n",
    "    \n",
    "    temp = participant.copy() #얕은 복사. temp = participant로 하면 깊은 복사.\n",
    "\n",
    "    #참가자 중 완주한 사람들의 값을 0으로 만들기\n",
    "    for m in participant:\n",
    "        if m in completion:\n",
    "            part_player[m] -= 1\n",
    "            completion.remove(m)\n",
    "            temp.remove(m)\n",
    "    answer = temp[0]     \n",
    "                \n",
    "    return answer\n",
    "\n",
    "print(solution(['mislav', 'stanko', 'mislav', 'ana'], ['stanko', 'ana', 'mislav']))\n",
    "print(solution(['marina', 'josipa', 'nikola', 'vinko', 'filipa'], ['josipa', 'filipa', 'marina', 'nikola']))\n",
    "print(solution(['mislav', 'stanko', 'mislav', 'ana'], ['mislav', 'ana', 'mislav']))\n"
   ]
  },
  {
   "cell_type": "code",
   "execution_count": 19,
   "metadata": {},
   "outputs": [
    {
     "name": "stdout",
     "output_type": "stream",
     "text": [
      "mislav\n",
      "vinko\n",
      "stanko\n"
     ]
    }
   ],
   "source": [
    "#정확성 100, 효율성 0(시간초과)\n",
    "\n",
    "def solution(participant, completion):\n",
    "    answer = ''\n",
    "\n",
    "    for m in participant:\n",
    "        if m in completion:\n",
    "            completion.remove(m)\n",
    "        elif m not in completion:\n",
    "            answer = m\n",
    "\n",
    "    return answer\n",
    "\n",
    "print(solution(['mislav', 'stanko', 'mislav', 'ana'], ['stanko', 'ana', 'mislav']))\n",
    "print(solution(['marina', 'josipa', 'nikola', 'vinko', 'filipa'], ['josipa', 'filipa', 'marina', 'nikola']))\n",
    "print(solution(['mislav', 'stanko', 'mislav', 'ana'], ['mislav', 'ana', 'mislav']))"
   ]
  },
  {
   "cell_type": "code",
   "execution_count": 20,
   "metadata": {},
   "outputs": [
    {
     "name": "stdout",
     "output_type": "stream",
     "text": [
      "mislav\n",
      "vinko\n",
      "stanko\n"
     ]
    }
   ],
   "source": [
    "#정확성 100, 효율성 0(시간초과)\n",
    "\n",
    "def solution(participant, completion):\n",
    "    answer = ''\n",
    "\n",
    "    for m in participant:\n",
    "        if m in completion:\n",
    "            completion.remove(m)\n",
    "        else:\n",
    "            answer = m\n",
    "    return answer\n",
    "\n",
    "print(solution(['mislav', 'stanko', 'mislav', 'ana'], ['stanko', 'ana', 'mislav']))\n",
    "print(solution(['marina', 'josipa', 'nikola', 'vinko', 'filipa'], ['josipa', 'filipa', 'marina', 'nikola']))\n",
    "print(solution(['mislav', 'stanko', 'mislav', 'ana'], ['mislav', 'ana', 'mislav']))"
   ]
  },
  {
   "cell_type": "code",
   "execution_count": 27,
   "metadata": {},
   "outputs": [],
   "source": [
    "#다른 사람 풀이1.  collections 이용.\n",
    "\n",
    "import collections\n",
    "\n",
    "def solution(participant, completion):\n",
    "    participant.sort() \n",
    "    completion.sort() \n",
    "    result = collections.Counter(participant) - collections.Counter(completion)\n",
    "\n",
    "    return list(result)[0]"
   ]
  },
  {
   "cell_type": "code",
   "execution_count": null,
   "metadata": {},
   "outputs": [],
   "source": [
    "#다른 사람 풀이2. 해쉬함수 이용. 근데 왜 에러나지?\n",
    "# hash(a) : a를 특정 숫자로 변환함.\n",
    "\n",
    "def solution(participant, completion):\n",
    "    answer = '' \n",
    "    temp = 0 \n",
    "    dic = {} \n",
    "    for part in participant: \n",
    "        dic[hash(part)] = part \n",
    "        temp += int(hash(part)) \n",
    "    for com in completion: \n",
    "        temp -= hash(com) \n",
    "        answer = dic[temp] \n",
    "    return answer\n",
    "\n",
    "print(solution(['mislav', 'stanko', 'mislav', 'ana'], ['stanko', 'ana', 'mislav']))\n",
    "print(solution(['marina', 'josipa', 'nikola', 'vinko', 'filipa'], ['josipa', 'filipa', 'marina', 'nikola']))\n",
    "print(solution(['mislav', 'stanko', 'mislav', 'ana'], ['mislav', 'ana', 'mislav']))"
   ]
  },
  {
   "cell_type": "code",
   "execution_count": null,
   "metadata": {},
   "outputs": [],
   "source": [
    "#다른 사람 풀이3. 제일 이해 쉬운 코드.\n",
    "\n",
    "def solution(participant, completion):\n",
    "    participant.sort()\n",
    "    completion.sort()\n",
    "    \n",
    "    for i in range(len(completion)):\n",
    "        if participant[i] != completion[i]:\n",
    "            return participant[i]\n",
    "    return participant[len(participant)-1]"
   ]
  },
  {
   "cell_type": "code",
   "execution_count": null,
   "metadata": {},
   "outputs": [],
   "source": []
  }
 ],
 "metadata": {
  "kernelspec": {
   "display_name": "Python 3",
   "language": "python",
   "name": "python3"
  },
  "language_info": {
   "codemirror_mode": {
    "name": "ipython",
    "version": 3
   },
   "file_extension": ".py",
   "mimetype": "text/x-python",
   "name": "python",
   "nbconvert_exporter": "python",
   "pygments_lexer": "ipython3",
   "version": "3.8.2"
  }
 },
 "nbformat": 4,
 "nbformat_minor": 4
}
